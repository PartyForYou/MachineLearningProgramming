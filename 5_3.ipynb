{
  "nbformat": 4,
  "nbformat_minor": 0,
  "metadata": {
    "colab": {
      "provenance": [],
      "authorship_tag": "ABX9TyNsidVF5cWzjV09n1PbCJ4D",
      "include_colab_link": true
    },
    "kernelspec": {
      "name": "python3",
      "display_name": "Python 3"
    },
    "language_info": {
      "name": "python"
    }
  },
  "cells": [
    {
      "cell_type": "markdown",
      "metadata": {
        "id": "view-in-github",
        "colab_type": "text"
      },
      "source": [
        "<a href=\"https://colab.research.google.com/github/PartyForYou/MachineLearningProgramming/blob/main/5_3.ipynb\" target=\"_parent\"><img src=\"https://colab.research.google.com/assets/colab-badge.svg\" alt=\"Open In Colab\"/></a>"
      ]
    },
    {
      "cell_type": "markdown",
      "source": [
        "https://bit.ly/hg-05-3"
      ],
      "metadata": {
        "id": "dwXgH2NeorQM"
      }
    },
    {
      "cell_type": "markdown",
      "source": [
        "# 트리의 앙상블"
      ],
      "metadata": {
        "id": "NG_iTeU1KzLg"
      }
    },
    {
      "cell_type": "markdown",
      "source": [
        "## 랜덤포레스트"
      ],
      "metadata": {
        "id": "yAseUw9xK1Ij"
      }
    },
    {
      "cell_type": "markdown",
      "source": [
        "앙살블 학습 중 가장 유명하고 안정적인 성능을 제공\n",
        "\n",
        "여러개의 결정 트리를 랜덤하게 만들고 각 결정 트리의 예측을 사용해 최종 예측을 출력\n",
        "\n",
        "1. 훈련하기 위한 데이터를 랜덤하게 만듦\n",
        "\n",
        "- 입력한 훈련 데이터에서 랜덤하게 샘플을 추출함\n",
        "- 중복된 샘플을 추출할 수 잇음\n",
        "- 이렇게 만들어진 샘플을 **부트스트랩 샘플**이라 함\n",
        "- 기본적으로 훈련 세트의 크기와 동일하게 설정됨\n",
        "  - 예) 1000개의 샘플로 구성된 훈련 세트가 주어지면 그 훈련 세트로부터 랜덤하게 1000개의 샘플을 중복이 가능하도록 선택\n",
        "\n",
        "2. 부트스트랩 샘플로 결정 트리를 훈련\n",
        "  - 각 노드를 분할할 때 전체 특성 중에서 일부 특성을 무작위로 고른 다음 이 중에서 최선의 분할을 찾음\n",
        "  - RandomForestClassifier 분류 모델은 기본적으로 전체 특성 개수의 제곱근만큼의 특성을 선택\n",
        "  - RndomForestRegressor 회귀 모델은 전체 특성을 사용\n",
        "\n",
        "3. 정해진 수만큼 위 과정을 반복"
      ],
      "metadata": {
        "id": "hZ4z_igYLOjf"
      }
    },
    {
      "cell_type": "markdown",
      "source": [
        "사이킷런의 랜덤 포레스트는 기본적으로 100개의 결정 트리를 훈련\n"
      ],
      "metadata": {
        "id": "_wkmCVgzNPfr"
      }
    },
    {
      "cell_type": "code",
      "source": [
        "import numpy as np\n",
        "import pandas as pd\n",
        "from sklearn.model_selection import train_test_split\n",
        "\n",
        "wine = pd.read_csv('https://bit.ly/wine_csv_data')\n",
        "\n",
        "data = wine[['alcohol', 'sugar', 'pH']].to_numpy()\n",
        "target = wine['class'].to_numpy()\n",
        "\n",
        "train_input, test_input, train_target, test_target = train_test_split(data, target, test_size=0.2, random_state=42)"
      ],
      "metadata": {
        "id": "R1ngrG9BK2wU"
      },
      "execution_count": null,
      "outputs": []
    },
    {
      "cell_type": "code",
      "source": [
        "from sklearn.model_selection import cross_validate\n",
        "from sklearn.ensemble import RandomForestClassifier\n",
        "\n",
        "rf = RandomForestClassifier(n_jobs=-1, random_state=42)\n",
        "scores = cross_validate(rf, train_input, train_target, return_train_score=True, n_jobs=-1)\n",
        "\n",
        "print(np.mean(scores['train_score']), np.mean(scores['test_score']))"
      ],
      "metadata": {
        "colab": {
          "base_uri": "https://localhost:8080/"
        },
        "id": "DqgD3xIAK4Ym",
        "outputId": "e801d7c4-c3b0-4c28-a4f7-41169b00ec46"
      },
      "execution_count": null,
      "outputs": [
        {
          "output_type": "stream",
          "name": "stdout",
          "text": [
            "0.9973541965122431 0.8905151032797809\n"
          ]
        }
      ]
    },
    {
      "cell_type": "code",
      "source": [
        "rf.fit(train_input, train_target)\n",
        "print(rf.feature_importances_)"
      ],
      "metadata": {
        "colab": {
          "base_uri": "https://localhost:8080/"
        },
        "id": "3vWvNcISK5NT",
        "outputId": "aecb99a7-2fda-494b-ee8c-7501144ecb03"
      },
      "execution_count": null,
      "outputs": [
        {
          "output_type": "stream",
          "name": "stdout",
          "text": [
            "[0.23167441 0.50039841 0.26792718]\n"
          ]
        }
      ]
    },
    {
      "cell_type": "markdown",
      "source": [
        "**oob_score**\n"
      ],
      "metadata": {
        "id": "5M0otKhHODlC"
      }
    },
    {
      "cell_type": "code",
      "source": [
        "rf = RandomForestClassifier(oob_score=True, n_jobs=-1, random_state=42)\n",
        "\n",
        "rf.fit(train_input, train_target)\n",
        "print(rf.oob_score_)"
      ],
      "metadata": {
        "colab": {
          "base_uri": "https://localhost:8080/"
        },
        "id": "Rvie3bG1K584",
        "outputId": "6c06cc5f-6500-4a04-e102-036b0356a919"
      },
      "execution_count": null,
      "outputs": [
        {
          "output_type": "stream",
          "name": "stdout",
          "text": [
            "0.8934000384837406\n"
          ]
        }
      ]
    },
    {
      "cell_type": "markdown",
      "source": [
        "## 엑스트라트리"
      ],
      "metadata": {
        "id": "JB2UE0m0K7DZ"
      }
    },
    {
      "cell_type": "markdown",
      "source": [
        "랜덤 포레스트와 비슷하게 동작\n",
        "  - 부트스트랩 샘플을 사용하지 않고 각 결정 트리를 만들 때 전체 훈련 세트를 사용\n",
        "  - 노드를 분할할 때 가장 좋은 분할을 찾지 않고 랜덤으로 분할함"
      ],
      "metadata": {
        "id": "Od3z8Y-pOOtO"
      }
    },
    {
      "cell_type": "code",
      "source": [
        "from sklearn.ensemble import ExtraTreesClassifier\n",
        "\n",
        "et = ExtraTreesClassifier(n_jobs=-1, random_state=42)\n",
        "scores = cross_validate(et, train_input, train_target, return_train_score=True, n_jobs=-1)\n",
        "\n",
        "print(np.mean(scores['train_score']), np.mean(scores['test_score']))"
      ],
      "metadata": {
        "colab": {
          "base_uri": "https://localhost:8080/"
        },
        "id": "Mx-q618_K8Fx",
        "outputId": "28fdd96e-7365-4910-ce51-78a3547d1814"
      },
      "execution_count": null,
      "outputs": [
        {
          "output_type": "stream",
          "name": "stdout",
          "text": [
            "0.9974503966084433 0.8887848893166506\n"
          ]
        }
      ]
    },
    {
      "cell_type": "code",
      "source": [
        "et.fit(train_input, train_target)\n",
        "print(et.feature_importances_)"
      ],
      "metadata": {
        "colab": {
          "base_uri": "https://localhost:8080/"
        },
        "id": "uMv3D4OUK88m",
        "outputId": "658ec9db-87f6-48d5-f9cc-086ce6c1a159"
      },
      "execution_count": null,
      "outputs": [
        {
          "output_type": "stream",
          "name": "stdout",
          "text": [
            "[0.20183568 0.52242907 0.27573525]\n"
          ]
        }
      ]
    },
    {
      "cell_type": "markdown",
      "source": [
        "** Bagging vs Boosting **\n",
        "\n",
        " 위 두 방법은 배깅 방법임\n",
        "\n",
        "여러 개의 모델을 랜덤하게 만들고 각 모델의 결과를 종합하여 결과를 출력\n",
        "\n",
        "아래 방법들은 부스팅 방식임\n",
        "\n",
        "모델을 순차적으로 여러개 만들되 이전 모델을 보완한 새로운 모델을 만들고 최종적으로 생성된 모든 모델을 하나로 합침"
      ],
      "metadata": {
        "id": "jLULGxPcO0mu"
      }
    },
    {
      "cell_type": "markdown",
      "source": [
        "## 그레이디언트 부스팅\n",
        "\n",
        "길이가 얕은 결정 트리를 사용하여 이전 트리의 오차를 보완하는 방식\n",
        "\n",
        "사이킷런에서는 기본적으로 깊이가 3인 결정 트리 100개를 사용\n",
        "\n",
        "깊이가 얉은 결정 트리를 사용하므로 과대적합에 강하고 일반적으로 높은 일반화 성능을 기대할 수 있음\n",
        "\n",
        "그레이디언트란 이름이 붙은 이유는 경사 하강법을 사용하여 트리를 앙상블에 추가하기 때문\n",
        "\n",
        "분류에서는 로지스틱 손실 함수를 사용\n",
        "\n",
        "회귀에서는 평균 제곱 오차 함수를 사용\n",
        "\n",
        "경사 하강법이 손실 함수를 산으로 정의하고 가장 낮은 곳을 찾아 내려오는 과정이라면, 그레이디언트 부스팅은 결정 트리를 계속 추가하면서 가장 낮은 곳으로 찾아 이동함\n",
        "\n",
        "경사 하강법에서 낮은 곳으로 천천히 조금씩 이동해야 하는 것처럼 그레이디언트 부스팅도 마찬가지이므로 길이라 얉은 트리를 사용함\n",
        "\n",
        "학습을 매개변수로 속도를 조절함\n",
        "\n",
        "예측에 사용될 데이터가 많은 경우 사용함"
      ],
      "metadata": {
        "id": "ulKWKHl3K_0j"
      }
    },
    {
      "cell_type": "markdown",
      "source": [
        "부스팅이므로 예측 모델을 순차적으로 더해나간 후 최종모델을 예측\n",
        "\n",
        "즉, 이전 모델의 오류를 새로운 모델을 추가하면서 줄이는 것"
      ],
      "metadata": {
        "id": "vM4Qy8BpP4mX"
      }
    },
    {
      "cell_type": "code",
      "source": [
        "from sklearn.ensemble import GradientBoostingClassifier\n",
        "\n",
        "gb = GradientBoostingClassifier(random_state=42)\n",
        "scores = cross_validate(gb, train_input, train_target, return_train_score=True, n_jobs=-1)\n",
        "\n",
        "print(np.mean(scores['train_score']), np.mean(scores['test_score']))"
      ],
      "metadata": {
        "colab": {
          "base_uri": "https://localhost:8080/"
        },
        "id": "9kMoaPdlK_LU",
        "outputId": "0d460cc6-77d7-43ea-c5b8-21e44f884277"
      },
      "execution_count": null,
      "outputs": [
        {
          "output_type": "stream",
          "name": "stdout",
          "text": [
            "0.8881086892152563 0.8720430147331015\n"
          ]
        }
      ]
    },
    {
      "cell_type": "code",
      "source": [
        "gb = GradientBoostingClassifier(n_estimators=500, learning_rate=0.2, random_state=42)\n",
        "scores = cross_validate(gb, train_input, train_target, return_train_score=True, n_jobs=-1)\n",
        "\n",
        "print(np.mean(scores['train_score']), np.mean(scores['test_score']))"
      ],
      "metadata": {
        "colab": {
          "base_uri": "https://localhost:8080/"
        },
        "id": "QmEHjAI9LB8J",
        "outputId": "7e5ea4c5-8b1d-4a22-f700-dd85e672f03a"
      },
      "execution_count": null,
      "outputs": [
        {
          "output_type": "stream",
          "name": "stdout",
          "text": [
            "0.9464595437171814 0.8780082549788999\n"
          ]
        }
      ]
    },
    {
      "cell_type": "code",
      "source": [
        "gb.fit(train_input, train_target)\n",
        "print(gb.feature_importances_)"
      ],
      "metadata": {
        "colab": {
          "base_uri": "https://localhost:8080/"
        },
        "id": "qQyK2AFALDSw",
        "outputId": "3a34119c-45cf-4b80-fb23-e99b5464d4fc"
      },
      "execution_count": null,
      "outputs": [
        {
          "output_type": "stream",
          "name": "stdout",
          "text": [
            "[0.15872278 0.68010884 0.16116839]\n"
          ]
        }
      ]
    },
    {
      "cell_type": "markdown",
      "source": [
        "## 히스토그램 기반 부스팅\n",
        "\n",
        "정형 데이터를 다루는 머신러닝 알고리즘 중에서 가장 인기가 높은 알고리즘\n",
        "\n",
        "입력 특성을 256개의 구간으로 나누므로 노드를 분할할 때 최적의 분할을 매우 빠르게 찾을 수 있음"
      ],
      "metadata": {
        "id": "aOY78f1rLEXE"
      }
    },
    {
      "cell_type": "code",
      "source": [
        "# 사이킷런 1.0 버전 아래에서는 다음 라인의 주석을 해제하고 실행하세요.\n",
        "# from sklearn.experimental import enable_hist_gradient_boosting\n",
        "from sklearn.ensemble import HistGradientBoostingClassifier\n",
        "\n",
        "hgb = HistGradientBoostingClassifier(random_state=42)\n",
        "scores = cross_validate(hgb, train_input, train_target, return_train_score=True, n_jobs=-1)\n",
        "\n",
        "print(np.mean(scores['train_score']), np.mean(scores['test_score']))"
      ],
      "metadata": {
        "colab": {
          "base_uri": "https://localhost:8080/"
        },
        "id": "kAIEYk-tLFSx",
        "outputId": "60c42fe9-a74a-4ce1-e378-eedfaff0c4db"
      },
      "execution_count": null,
      "outputs": [
        {
          "output_type": "stream",
          "name": "stdout",
          "text": [
            "0.9321723946453317 0.8801241948619236\n"
          ]
        }
      ]
    },
    {
      "cell_type": "code",
      "source": [
        "from sklearn.inspection import permutation_importance\n",
        "\n",
        "hgb.fit(train_input, train_target)\n",
        "result = permutation_importance(hgb, train_input, train_target, n_repeats=10,\n",
        "                                random_state=42, n_jobs=-1)\n",
        "print(result.importances_mean)"
      ],
      "metadata": {
        "colab": {
          "base_uri": "https://localhost:8080/"
        },
        "id": "DuVoe1eQLGQ-",
        "outputId": "1d37218d-1f85-4035-9e12-6849c83853cf"
      },
      "execution_count": null,
      "outputs": [
        {
          "output_type": "stream",
          "name": "stdout",
          "text": [
            "[0.08876275 0.23438522 0.08027708]\n"
          ]
        }
      ]
    },
    {
      "cell_type": "code",
      "source": [
        "result = permutation_importance(hgb, test_input, test_target, n_repeats=10,\n",
        "                                random_state=42, n_jobs=-1)\n",
        "print(result.importances_mean)"
      ],
      "metadata": {
        "colab": {
          "base_uri": "https://localhost:8080/"
        },
        "id": "4dCmxEOULHI5",
        "outputId": "8179d76a-f7fb-44f9-8e9f-0b582b0cfdae"
      },
      "execution_count": null,
      "outputs": [
        {
          "output_type": "stream",
          "name": "stdout",
          "text": [
            "[0.05969231 0.20238462 0.049     ]\n"
          ]
        }
      ]
    },
    {
      "cell_type": "code",
      "source": [
        "hgb.score(test_input, test_target)"
      ],
      "metadata": {
        "colab": {
          "base_uri": "https://localhost:8080/"
        },
        "id": "b9_ggzKtLIk1",
        "outputId": "28d6d83e-e4d0-40b6-a521-2da97930cb66"
      },
      "execution_count": null,
      "outputs": [
        {
          "output_type": "execute_result",
          "data": {
            "text/plain": [
              "0.8723076923076923"
            ]
          },
          "metadata": {},
          "execution_count": 13
        }
      ]
    },
    {
      "cell_type": "markdown",
      "source": [
        "#### XGBoost\n",
        "\n",
        "사이킷런의 cross_validate() 함수 사용가능"
      ],
      "metadata": {
        "id": "E-8nQiQILJe8"
      }
    },
    {
      "cell_type": "code",
      "source": [
        "from xgboost import XGBClassifier\n",
        "\n",
        "xgb = XGBClassifier(tree_method='hist', random_state=42)\n",
        "scores = cross_validate(xgb, train_input, train_target, return_train_score=True, n_jobs=-1)\n",
        "\n",
        "print(np.mean(scores['train_score']), np.mean(scores['test_score']))"
      ],
      "metadata": {
        "colab": {
          "base_uri": "https://localhost:8080/"
        },
        "id": "C5KFAra_LKSL",
        "outputId": "c08632b3-05ca-4439-a3b0-cc02abff7db2"
      },
      "execution_count": null,
      "outputs": [
        {
          "output_type": "stream",
          "name": "stdout",
          "text": [
            "0.9555033709953124 0.8799326275264677\n"
          ]
        }
      ]
    },
    {
      "cell_type": "markdown",
      "source": [
        "#### LightGBM\n",
        "\n",
        "마이크로소프트에서 만든 히스토그램 기반 그레이디언트 부스팅 알고리즘을 구현한 라이브러리"
      ],
      "metadata": {
        "id": "6-prl5_ULLWi"
      }
    },
    {
      "cell_type": "code",
      "source": [
        "from lightgbm import LGBMClassifier\n",
        "\n",
        "lgb = LGBMClassifier(random_state=42)\n",
        "scores = cross_validate(lgb, train_input, train_target, return_train_score=True, n_jobs=-1)\n",
        "\n",
        "print(np.mean(scores['train_score']), np.mean(scores['test_score']))"
      ],
      "metadata": {
        "colab": {
          "base_uri": "https://localhost:8080/"
        },
        "id": "0sJxAWAELMCP",
        "outputId": "56b0f9b2-45c8-4a7a-8902-be03766cbe8d"
      },
      "execution_count": null,
      "outputs": [
        {
          "output_type": "stream",
          "name": "stdout",
          "text": [
            "0.935828414851749 0.8801251203079884\n"
          ]
        }
      ]
    }
  ]
}