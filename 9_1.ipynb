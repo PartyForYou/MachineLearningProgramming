{
  "nbformat": 4,
  "nbformat_minor": 0,
  "metadata": {
    "colab": {
      "provenance": [],
      "authorship_tag": "ABX9TyMiXO5jR/DTfyEjCdd/56+/",
      "include_colab_link": true
    },
    "kernelspec": {
      "name": "python3",
      "display_name": "Python 3"
    },
    "language_info": {
      "name": "python"
    }
  },
  "cells": [
    {
      "cell_type": "markdown",
      "metadata": {
        "id": "view-in-github",
        "colab_type": "text"
      },
      "source": [
        "<a href=\"https://colab.research.google.com/github/PartyForYou/MachineLearningProgramming/blob/main/9_1.ipynb\" target=\"_parent\"><img src=\"https://colab.research.google.com/assets/colab-badge.svg\" alt=\"Open In Colab\"/></a>"
      ]
    },
    {
      "cell_type": "markdown",
      "source": [
        "# 텍스트를 위한 인공신경망"
      ],
      "metadata": {
        "id": "yNXtQLiX9y8x"
      }
    },
    {
      "cell_type": "markdown",
      "source": [
        "**순차 데이터**\n",
        "\n",
        "텍스트나 시계열 데이터와 같이 순서에 의미가 있는 데이터. 대표적인 순차 데이터로는 글, 대화, 일자별 날씨, 일자별 판매 실적 등이 있다."
      ],
      "metadata": {
        "id": "MEiWhLaL91sc"
      }
    },
    {
      "cell_type": "markdown",
      "source": [
        "**피드포워드 신경망**\n",
        "\n",
        "입력 데이터이 흐름이 앞으로만 전달되는 신경망\n",
        "\n",
        "완전 연결 신경망과 합성곱 신경망이 포함\n",
        "\n",
        "**순환 신경망**\n",
        "\n",
        "신경망이 이전에 처리했던 샘플을 다음 샘플을 처리하는데 재사용하기 위해서는 이전 데이터가 신경망 층에 순환될 필요가 있음"
      ],
      "metadata": {
        "id": "AZn-cFBm9_vN"
      }
    },
    {
      "cell_type": "markdown",
      "source": [
        "**타임스텝**\n",
        "\n",
        "샘플을 처리하는 한 단계"
      ],
      "metadata": {
        "id": "g2HspkJx-X5M"
      }
    },
    {
      "cell_type": "markdown",
      "source": [
        "순환 신경망에서는 뉴런에 가중치가 하나 더 추가됨\n"
      ],
      "metadata": {
        "id": "hMh5qc28_d8E"
      }
    },
    {
      "cell_type": "markdown",
      "source": [
        "순환 신경망에서의 층을 셀 : Cell이라고 부른다. 한 셀에는 다른 신경망과 마찬가지로 여러 개의 뉴런이 존재한다. 또한 셀의 출력을 은닉 상태 : hidden state라고 부른다.\n",
        "\n",
        "입력에 어떤 가중치를 곱하고 활성화 함수를 통과시킨다는 점은 CNN과 같다.\n",
        "일반적으로 은닉층의 활성화 함수로는 하이퍼볼릭 탄젠트를 많이 사용한다.\n",
        "RNN에서는 feedforward와 달리 이전 타임스텝의 은닉상태에 곱하는 가중치가 하나 더 존재한다.\n"
      ],
      "metadata": {
        "id": "9Q2z8JR3_4tu"
      }
    },
    {
      "cell_type": "markdown",
      "source": [
        "어휘 사전: 훈련 세트에서 고유한 단어를 뽑아 만든 목록\n",
        "\n",
        "일반적으로 영어 문장은 모두 소문자로 바꾸고 구둣점을 삭제한 다음 공백을 기준으로 분리\n",
        "\n",
        "이렇게 분리된 단어를 토큰이라 함\n"
      ],
      "metadata": {
        "id": "T4AEGBwICESA"
      }
    },
    {
      "cell_type": "markdown",
      "source": [
        "순환 신경망에서는 하나의 샘플을 시퀀스 : sequence라고 한다.\n",
        "\n",
        "순환층은 일반적으로 샘플마다 2개의 차원을 갖는다.\n",
        "\n",
        "단어의 경우 타임스텝과 단어 표현에 대한 차원으로, 자세한 것은 9-2에서 설명한다.\n",
        "\n",
        "\n",
        "순환층의 출력은 가장 마지막 타임스텝의 은닉상태만 출력한다.(시퀀스의 길이를 모두 읽어서 정보를 마지막 은닉 상태에 압축해 전달하는 것처럼)\n",
        "\n",
        "\n",
        "-> 만일 여러 개의 층을 쌓는다면, 두 번째 셀의 입력이 들어가야 하기 때문에 첫 번째 셀에서의 출력은 모든 타임스텝에 대한 은닉상태가 된다."
      ],
      "metadata": {
        "id": "-v4XlFju_u0v"
      }
    }
  ]
}