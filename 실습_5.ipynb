{
  "nbformat": 4,
  "nbformat_minor": 0,
  "metadata": {
    "colab": {
      "provenance": [],
      "authorship_tag": "ABX9TyMN6pk31GV3DF9d68/E+6UP",
      "include_colab_link": true
    },
    "kernelspec": {
      "name": "python3",
      "display_name": "Python 3"
    },
    "language_info": {
      "name": "python"
    }
  },
  "cells": [
    {
      "cell_type": "markdown",
      "metadata": {
        "id": "view-in-github",
        "colab_type": "text"
      },
      "source": [
        "<a href=\"https://colab.research.google.com/github/PartyForYou/MachineLearningProgramming/blob/main/%EC%8B%A4%EC%8A%B5_5.ipynb\" target=\"_parent\"><img src=\"https://colab.research.google.com/assets/colab-badge.svg\" alt=\"Open In Colab\"/></a>"
      ]
    },
    {
      "cell_type": "markdown",
      "source": [
        "WINE 데이터 세트를 이용하여\n",
        "- 결정트리,\n",
        "- 랜덤포레스트,\n",
        "- 에스트라 트리,\n",
        "- 그레디언트 부스팅,\n",
        "- 히스토그램기반 그래디언트 부스팅\n",
        "\n",
        "모델을 만들고 최적화"
      ],
      "metadata": {
        "id": "Cb0dBztCTSfd"
      }
    },
    {
      "cell_type": "markdown",
      "source": [
        "**데이터 준비**"
      ],
      "metadata": {
        "id": "VrfAcC5KWkU7"
      }
    },
    {
      "cell_type": "code",
      "execution_count": 10,
      "metadata": {
        "id": "m69PRW__Setz"
      },
      "outputs": [],
      "source": [
        "import pandas as pd\n",
        "\n",
        "wine = pd.read_csv('https://bit.ly/wine_csv_data')\n",
        "\n",
        "data = wine[['alcohol', 'sugar', 'pH']].to_numpy()\n",
        "target = wine['class'].to_numpy()\n",
        "\n",
        "from sklearn.model_selection import train_test_split\n",
        "\n",
        "train_input, test_input, train_target, test_target = train_test_split(\n",
        "    data, target, test_size=0.2, random_state=42)\n",
        "\n",
        "sub_input, val_input, sub_target, val_target = train_test_split(\n",
        "    train_input, train_target, test_size=0.2, random_state=42)\n",
        "\n",
        "# 정규화\n",
        "from sklearn.preprocessing import StandardScaler\n",
        "\n",
        "ss = StandardScaler()\n",
        "ss.fit(train_input)\n",
        "\n",
        "train_scaled = ss.transform(train_input)\n",
        "test_scaled = ss.transform(test_input)"
      ]
    },
    {
      "cell_type": "markdown",
      "source": [
        "## 결정트리"
      ],
      "metadata": {
        "id": "WmIE_gtfW4vd"
      }
    },
    {
      "cell_type": "code",
      "source": [
        "from sklearn.tree import DecisionTreeClassifier\n",
        "\n",
        "train_score = []\n",
        "test_score = []\n",
        "for i in range(2, 50):\n",
        "  model = DecisionTreeClassifier(max_depth = i, random_state=42, min_impurity_decrease=0.0005)\n",
        "  model.fit(train_input, train_target)\n",
        "  train_score.append(model.score(train_input, train_target))\n",
        "  test_score.append(model.score(test_input, test_target))\n",
        "import matplotlib.pyplot as plt\n",
        "plt.plot(test_score)\n",
        "plt.plot(train_score)\n",
        "plt.xlabel('max_depth')\n",
        "plt.ylabel('accuracy')\n",
        "plt.show()\n",
        "\n",
        "model = DecisionTreeClassifier(max_depth = 5, min_impurity_decrease=0.0005)\n",
        "model.fit(train_input, train_target)\n",
        "\n",
        "print(model.score(train_input, train_target))\n",
        "print(model.score(test_input, test_target))\n"
      ],
      "metadata": {
        "colab": {
          "base_uri": "https://localhost:8080/",
          "height": 486
        },
        "id": "G2m_fXfmXMRc",
        "outputId": "aaac219f-65d8-4832-ea41-36ca17b2a4ff"
      },
      "execution_count": 11,
      "outputs": [
        {
          "output_type": "display_data",
          "data": {
            "text/plain": [
              "<Figure size 640x480 with 1 Axes>"
            ],
            "image/png": "[encoded data removed]"
          },
          "metadata": {}
        },
        {
          "output_type": "stream",
          "name": "stdout",
          "text": [
            "0.8668462574562248\n",
            "0.8623076923076923\n"
          ]
        }
      ]
    },
    {
      "cell_type": "markdown",
      "source": [
        "## 랜덤 포레스트"
      ],
      "metadata": {
        "id": "k_aOXZFyYCcN"
      }
    },
    {
      "cell_type": "code",
      "source": [
        "import numpy as np\n",
        "from sklearn.model_selection import cross_validate\n",
        "from sklearn.ensemble import RandomForestClassifier\n",
        "\n",
        "from scipy.stats import uniform, randint\n",
        "params = {'min_impurity_decrease': uniform(0.0001, 0.001),\n",
        "          'max_depth': randint(20, 50),\n",
        "          'min_samples_split': randint(2, 25),\n",
        "          'min_samples_leaf': randint(1, 25),\n",
        "          }\n",
        "\n",
        "\n",
        "from sklearn.model_selection import RandomizedSearchCV\n",
        "\n",
        "gs = RandomizedSearchCV(RandomForestClassifier(random_state=42), params,\n",
        "                        n_iter=100, n_jobs=-1, random_state=42)\n",
        "\n",
        "\n",
        "gs.fit(train_input, train_target)\n",
        "print(gs.best_params_)\n",
        "dt = gs.best_estimator_\n",
        "print(dt.score(train_input, train_target))\n",
        "print(dt.score(test_input, test_target))\n"
      ],
      "metadata": {
        "colab": {
          "base_uri": "https://localhost:8080/"
        },
        "id": "pJvmIKyIYSqd",
        "outputId": "b0f95a94-1e4b-42fe-fb31-680f06b816e4"
      },
      "execution_count": 9,
      "outputs": [
        {
          "output_type": "stream",
          "name": "stdout",
          "text": [
            "{'max_depth': 36, 'min_impurity_decrease': 0.00013734818874921442, 'min_samples_leaf': 6, 'min_samples_split': 16}\n",
            "0.9043679045603232\n",
            "0.8676923076923077\n"
          ]
        }
      ]
    },
    {
      "cell_type": "markdown",
      "source": [
        "## 에스트라 트리"
      ],
      "metadata": {
        "id": "8NaIgj3GYr1N"
      }
    },
    {
      "cell_type": "code",
      "source": [
        "from sklearn.ensemble import ExtraTreesClassifier\n",
        "\n",
        "params = {'min_impurity_decrease': uniform(0.0001, 0.001),\n",
        "          'max_depth': randint(20, 50),\n",
        "          'min_samples_split': randint(2, 25),\n",
        "          'min_samples_leaf': randint(1, 25),\n",
        "          }\n",
        "\n",
        "gs = RandomizedSearchCV(ExtraTreesClassifier(random_state=42), params,\n",
        "                        n_iter=100, n_jobs=-1, random_state=42)\n",
        "\n",
        "\n",
        "gs.fit(train_input, train_target)\n",
        "print(gs.best_params_)\n",
        "dt = gs.best_estimator_\n",
        "print(dt.score(train_input, train_target))\n",
        "print(dt.score(test_input, test_target))"
      ],
      "metadata": {
        "colab": {
          "base_uri": "https://localhost:8080/"
        },
        "id": "9qY_TayHY5om",
        "outputId": "aa99b4fa-6390-4b0f-dacb-14ebcd917c9a"
      },
      "execution_count": 12,
      "outputs": [
        {
          "output_type": "stream",
          "name": "stdout",
          "text": [
            "{'max_depth': 26, 'min_impurity_decrease': 0.0008965429868602329, 'min_samples_leaf': 15, 'min_samples_split': 12}\n",
            "0.7579372715027901\n",
            "0.7376923076923076\n"
          ]
        }
      ]
    },
    {
      "cell_type": "markdown",
      "source": [
        "## 그레디언트 부스팅"
      ],
      "metadata": {
        "id": "6IeHQ7yuYu1f"
      }
    },
    {
      "cell_type": "code",
      "source": [
        "from sklearn.ensemble import GradientBoostingClassifier\n",
        "\n",
        "params = {'learning_rate': uniform(0.0001, 0.001),\n",
        "          'max_depth': randint(20, 30)\n",
        "          }\n",
        "\n",
        "# gb = GradientBoostingClassifier(n_estimators=500, learning_rate=0.2, random_state=42)\n",
        "\n",
        "\n",
        "gs = RandomizedSearchCV(GradientBoostingClassifier(random_state=42), params,\n",
        "                        n_iter=10, n_jobs=-1, random_state=42)\n",
        "scores = cross_validate(gs, train_input, train_target, return_train_score=True, n_jobs=-1)\n",
        "\n",
        "\n",
        "gs.fit(train_input, train_target)\n",
        "print(gs.best_params_)\n",
        "dt = gs.best_estimator_\n",
        "print(dt.score(train_input, train_target))\n",
        "print(dt.score(test_input, test_target))"
      ],
      "metadata": {
        "colab": {
          "base_uri": "https://localhost:8080/"
        },
        "id": "tJx9vNq6ZD6o",
        "outputId": "792eb599-f4bc-4bba-a771-15033fcc86e6"
      },
      "execution_count": 15,
      "outputs": [
        {
          "output_type": "stream",
          "name": "stdout",
          "text": [
            "{'learning_rate': 0.0004745401188473625, 'max_depth': 27}\n",
            "0.7579372715027901\n",
            "0.7376923076923076\n"
          ]
        }
      ]
    },
    {
      "cell_type": "markdown",
      "source": [
        "## 히스토그램기반 그래디언트 부스팅"
      ],
      "metadata": {
        "id": "JGtK_dAwYyaq"
      }
    },
    {
      "cell_type": "code",
      "source": [
        "from sklearn.ensemble import HistGradientBoostingClassifier\n",
        "from sklearn.inspection import permutation_importance\n",
        "\n",
        "params = {'learning_rate': uniform(0.0001, 0.001),\n",
        "          'max_depth': randint(20, 30)\n",
        "          }\n",
        "\n",
        "\n",
        "hgb = RandomizedSearchCV(HistGradientBoostingClassifier(random_state=42), params,\n",
        "                        n_iter=100, n_jobs=-1, random_state=42)\n",
        "hgb.fit(train_input, train_target)\n",
        "result = permutation_importance(hgb, test_input, test_target, n_repeats=10,\n",
        "                                random_state=42, n_jobs=-1)\n",
        "print(hgb.score(test_input, test_target))\n",
        "print(hgb.score(test_input, test_target))\n",
        "\n",
        "print(hgb.best_params_)"
      ],
      "metadata": {
        "colab": {
          "base_uri": "https://localhost:8080/"
        },
        "id": "hS8Hf7O_ZeDs",
        "outputId": "8d0213c6-110f-4bfe-b25c-0f796b254b1b"
      },
      "execution_count": 17,
      "outputs": [
        {
          "output_type": "stream",
          "name": "stdout",
          "text": [
            "0.7376923076923076\n",
            "0.7376923076923076\n",
            "{'learning_rate': 0.0004745401188473625, 'max_depth': 27}\n"
          ]
        }
      ]
    }
  ]
}