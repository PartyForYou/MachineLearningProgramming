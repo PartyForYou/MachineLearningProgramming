{
  "nbformat": 4,
  "nbformat_minor": 0,
  "metadata": {
    "colab": {
      "provenance": [],
      "gpuType": "T4",
      "authorship_tag": "ABX9TyP4fD2IbMC9Nl5xmQtpz+mm",
      "include_colab_link": true
    },
    "kernelspec": {
      "name": "python3",
      "display_name": "Python 3"
    },
    "language_info": {
      "name": "python"
    },
    "accelerator": "GPU"
  },
  "cells": [
    {
      "cell_type": "markdown",
      "metadata": {
        "id": "view-in-github",
        "colab_type": "text"
      },
      "source": [
        "<a href=\"https://colab.research.google.com/github/PartyForYou/MachineLearningProgramming/blob/main/7_2.ipynb\" target=\"_parent\"><img src=\"https://colab.research.google.com/assets/colab-badge.svg\" alt=\"Open In Colab\"/></a>"
      ]
    },
    {
      "cell_type": "markdown",
      "source": [
        "\n",
        "https://bit.ly/hg-07-2"
      ],
      "metadata": {
        "id": "0sB3hHm9J_LR"
      }
    },
    {
      "cell_type": "markdown",
      "source": [
        "# 심층 신경망"
      ],
      "metadata": {
        "id": "7IW0uWxSKBcj"
      }
    },
    {
      "cell_type": "markdown",
      "source": [
        "**심층 신경망**\n",
        "\n",
        "- 2개 이상의 층을 포함한 신경망\n",
        "- 종종 다층 인공 신경망, 심층 신경망, 딥러닝을 같은 의미로 사용"
      ],
      "metadata": {
        "id": "NA-aCAMYN1dN"
      }
    },
    {
      "cell_type": "markdown",
      "source": [
        "## 2개의 층"
      ],
      "metadata": {
        "id": "V8E9gHWnKH3u"
      }
    },
    {
      "cell_type": "markdown",
      "source": [
        "데이터 준비"
      ],
      "metadata": {
        "id": "Uu0SIID6OCk4"
      }
    },
    {
      "cell_type": "code",
      "source": [
        "from tensorflow import keras\n",
        "(train_input, train_target), (test_input, test_target) = keras.datasets.fashion_mnist.load_data()\n",
        "\n",
        "from sklearn.model_selection import train_test_split\n",
        "train_scaled = train_input / 255.0\n",
        "train_scaled = train_scaled.reshape(-1, 28*28)\n",
        "train_scaled, val_scaled, train_target, val_target = train_test_split(train_scaled, train_target, test_size=0.2, random_state=42)"
      ],
      "metadata": {
        "id": "ubbWSd5kKJT0",
        "colab": {
          "base_uri": "https://localhost:8080/"
        },
        "outputId": "0b428ea9-23c4-443c-8516-884b68f31507"
      },
      "execution_count": 1,
      "outputs": [
        {
          "output_type": "stream",
          "name": "stdout",
          "text": [
            "Downloading data from https://storage.googleapis.com/tensorflow/tf-keras-datasets/train-labels-idx1-ubyte.gz\n",
            "29515/29515 [==============================] - 0s 0us/step\n",
            "Downloading data from https://storage.googleapis.com/tensorflow/tf-keras-datasets/train-images-idx3-ubyte.gz\n",
            "26421880/26421880 [==============================] - 0s 0us/step\n",
            "Downloading data from https://storage.googleapis.com/tensorflow/tf-keras-datasets/t10k-labels-idx1-ubyte.gz\n",
            "5148/5148 [==============================] - 0s 0us/step\n",
            "Downloading data from https://storage.googleapis.com/tensorflow/tf-keras-datasets/t10k-images-idx3-ubyte.gz\n",
            "4422102/4422102 [==============================] - 0s 0us/step\n"
          ]
        }
      ]
    },
    {
      "cell_type": "markdown",
      "source": [
        "2개의 층을 이용해서 심층 신경망을 만들어보자"
      ],
      "metadata": {
        "id": "iWu0wxnvOYZB"
      }
    },
    {
      "cell_type": "markdown",
      "source": [
        "**은닉층**\n",
        "\n",
        "입력층과 출력층 사이에 있는 모든 층\n",
        "\n",
        "출력층에서는 소프트맥스나 시그모이드 함수를 써야 함\n",
        "\n",
        "그러나 은닉층은 활성화 함수의 선택이 자유로움\n",
        "\n",
        "**왜 은닉층에 활성화 함수를 적용하는가?**\n",
        "\n",
        "활성화 함수없이 은닉층만 있다면 의미가 없기 때문\n",
        "\n",
        "많이 사용되는 활성화 함수 중 하나는 시그모이드 함수\n",
        "\n",
        "\n",
        "\n"
      ],
      "metadata": {
        "id": "9wP8XOGbO8sj"
      }
    },
    {
      "cell_type": "markdown",
      "source": [
        "dense1: 은닉층, 100개의 뉴런을 가지는 밀집층\n",
        "\n",
        "은닉층의 뉴런 개수를 정하는 데는 특별한 기준이 없음\n",
        "\n",
        "따라서 몇 개의 뉴런을 두어야 할지 판단하기 위해서는 상당한 경험이 필요함\n",
        "\n",
        "한 가지 제약 사항은 적어도 출력층의 뉴런보다는 많게 만들어야 함"
      ],
      "metadata": {
        "id": "YuyWCOSYPnyo"
      }
    },
    {
      "cell_type": "markdown",
      "source": [
        "dense2: 출력층, 10개의 클래스를 분류하므로 10개의 뉴런을 설정하고 활성화 함수로 스프트맥스 함수를 지정\n",
        "\n",
        "또한 첫 번째 밀집층이 아니므로 input_shape를 지정할 필요가 없음"
      ],
      "metadata": {
        "id": "1gucqh_ZPy0r"
      }
    },
    {
      "cell_type": "code",
      "source": [
        "dense1 = keras.layers.Dense(100, activation='sigmoid', input_shape=(784,))\n",
        "dense2 = keras.layers.Dense(10, activation='softmax')\n",
        "model = keras.Sequential([dense1, dense2])\n",
        "model.compile(loss='sparse_categorical_crossentropy', metrics='accuracy')\n",
        "model.fit(train_scaled, train_target, epochs=5)\n",
        "model.evaluate(val_scaled, val_target)\n"
      ],
      "metadata": {
        "colab": {
          "base_uri": "https://localhost:8080/"
        },
        "id": "hMEi4d1lTk9s",
        "outputId": "76444cab-03ab-40bc-9900-f309ecb4c525"
      },
      "execution_count": 2,
      "outputs": [
        {
          "output_type": "stream",
          "name": "stdout",
          "text": [
            "Epoch 1/5\n",
            "1500/1500 [==============================] - 14s 5ms/step - loss: 0.5652 - accuracy: 0.8083\n",
            "Epoch 2/5\n",
            "1500/1500 [==============================] - 4s 2ms/step - loss: 0.4110 - accuracy: 0.8525\n",
            "Epoch 3/5\n",
            "1500/1500 [==============================] - 4s 3ms/step - loss: 0.3751 - accuracy: 0.8650\n",
            "Epoch 4/5\n",
            "1500/1500 [==============================] - 4s 3ms/step - loss: 0.3543 - accuracy: 0.8719\n",
            "Epoch 5/5\n",
            "1500/1500 [==============================] - 4s 2ms/step - loss: 0.3358 - accuracy: 0.8786\n",
            "375/375 [==============================] - 1s 2ms/step - loss: 0.3421 - accuracy: 0.8746\n"
          ]
        },
        {
          "output_type": "execute_result",
          "data": {
            "text/plain": [
              "[0.3420795798301697, 0.8745833039283752]"
            ]
          },
          "metadata": {},
          "execution_count": 2
        }
      ]
    },
    {
      "cell_type": "code",
      "source": [
        "dense1 = keras.layers.Dense(100, activation='sigmoid', input_shape=(784,))\n",
        "dense2 = keras.layers.Dense(10, activation='softmax')"
      ],
      "metadata": {
        "id": "AE0HoitTKL6n"
      },
      "execution_count": 3,
      "outputs": []
    },
    {
      "cell_type": "markdown",
      "source": [
        "## 심층 신경망 만들기"
      ],
      "metadata": {
        "id": "SLr35vygKNUH"
      }
    },
    {
      "cell_type": "code",
      "source": [
        "model = keras.Sequential([dense1, dense2])"
      ],
      "metadata": {
        "id": "xyarpwQqKOTe"
      },
      "execution_count": 4,
      "outputs": []
    },
    {
      "cell_type": "markdown",
      "source": [
        "인공 신경망의 강력한 성능은 이렇게 층을 리스트로 추가하여 입력 데이터에 대해 연속적인 학습을 진행하는 능력에서 나옴"
      ],
      "metadata": {
        "id": "x4U_TkfuP7cY"
      }
    },
    {
      "cell_type": "code",
      "source": [
        "model.summary()"
      ],
      "metadata": {
        "colab": {
          "base_uri": "https://localhost:8080/"
        },
        "id": "KQBCWUwbKPU-",
        "outputId": "c6eb02d5-a250-49cd-8585-d02bd4672052"
      },
      "execution_count": 5,
      "outputs": [
        {
          "output_type": "stream",
          "name": "stdout",
          "text": [
            "Model: \"sequential_1\"\n",
            "_________________________________________________________________\n",
            " Layer (type)                Output Shape              Param #   \n",
            "=================================================================\n",
            " dense_2 (Dense)             (None, 100)               78500     \n",
            "                                                                 \n",
            " dense_3 (Dense)             (None, 10)                1010      \n",
            "                                                                 \n",
            "=================================================================\n",
            "Total params: 79510 (310.59 KB)\n",
            "Trainable params: 79510 (310.59 KB)\n",
            "Non-trainable params: 0 (0.00 Byte)\n",
            "_________________________________________________________________\n"
          ]
        }
      ]
    },
    {
      "cell_type": "markdown",
      "source": [
        "Model: \"sequential\" <- 모델 이름\n",
        "---\n",
        "이 모델에 들어 있는 층이 순서대로 나열\n",
        "\n",
        "층마다 층 이름, 클래스, 출력 크기, 모델 파라미터 개수가 출력\n",
        "\n",
        "층을 만들 때 name 매개변수로 이름 지정 가능\n",
        "\n",
        "미지정시 자동으로 dense라고 이름을 붙임\n",
        "\n",
        "---\n",
        "\n",
        "출력 크기의(None, 100)에서 첫 번째 차원의 샘플의 개수를 나타냄\n",
        "\n",
        "현재 샘플 개수가 아직 정의되어 있지 않기 때문에 None임\n",
        "\n",
        "(784,)은 한 샘플의 크기를 뜻하는 거지 샘플의 수를 뜻하지 않음\n",
        "\n",
        "케라스 모델의 fit() 메서드에 훈련 데이터를 주입하면 이 데이터를 한 번에 모두 사용하지 않고 잘게 나누어 여러 번에 걸쳐 경사 하강법 단계를 수행\n",
        "\n",
        "즉, 미니배치 경사 하강법을 사용\n",
        "\n",
        "케라스의 기본 미니배치 크기는 32이며 fit() 메서드에서 batch_size 매개변수로 바꿀 수 있음\n",
        "\n",
        "따라서 샘플 개수를 고정하지 않고 어떤 배치 크기에도 유연하게 대응할 수 있도록 None으로 설정\n",
        "\n",
        "이렇게 신경망 층에 입력되거나 출력되는 배열의 첫 번째 차원을 배치 차원이라고 함\n",
        "\n",
        "두 번째 차원은 뉴런 개수 또는 출력 개수\n",
        "\n",
        "즉, 샘플마다 784개의 픽셀값이 은닉층을 통과하면서 100개의 특성으로 압축됨\n",
        "\n",
        "---\n",
        "\n",
        "모델 파라미터 개수\n",
        "\n",
        "(입력값 개수 + 1) * 뉴런 개수\n",
        "\n",
        "---\n"
      ],
      "metadata": {
        "id": "CPhHL8K0QtTh"
      }
    },
    {
      "cell_type": "markdown",
      "source": [
        "## 층을 추가하는 다른 방법"
      ],
      "metadata": {
        "id": "tSAmtd56KQrw"
      }
    },
    {
      "cell_type": "markdown",
      "source": [
        "따로 Dense 클래스를 만들지 안혹 Sequential 클래스의 생성자 안에서 바로 Dense 클래스의 객체를 생성\n",
        "\n",
        "추가되는 층을 한눈에 손쉽게 알아볼 수 있음\n",
        "\n",
        "모델의 이름과는 다르게 층의 이름은 반드시 영문이여야 함\n",
        "\n",
        "model = keras.Sequential([dense1, dense2])"
      ],
      "metadata": {
        "id": "KhYOb91tShe2"
      }
    },
    {
      "cell_type": "code",
      "source": [
        "model = keras.Sequential([\n",
        "    keras.layers.Dense(100, activation='sigmoid', input_shape=(784,), name='hidden'),\n",
        "    keras.layers.Dense(10, activation='softmax', name='output')\n",
        "], name='패션 MNIST 모델')"
      ],
      "metadata": {
        "id": "LRYDBdhzKRgw"
      },
      "execution_count": 6,
      "outputs": []
    },
    {
      "cell_type": "code",
      "source": [
        "model.summary()"
      ],
      "metadata": {
        "colab": {
          "base_uri": "https://localhost:8080/"
        },
        "id": "Ctaa5XZ2KSXB",
        "outputId": "6b049578-a339-432b-9a79-45578b883135"
      },
      "execution_count": 7,
      "outputs": [
        {
          "output_type": "stream",
          "name": "stdout",
          "text": [
            "Model: \"패션 MNIST 모델\"\n",
            "_________________________________________________________________\n",
            " Layer (type)                Output Shape              Param #   \n",
            "=================================================================\n",
            " hidden (Dense)              (None, 100)               78500     \n",
            "                                                                 \n",
            " output (Dense)              (None, 10)                1010      \n",
            "                                                                 \n",
            "=================================================================\n",
            "Total params: 79510 (310.59 KB)\n",
            "Trainable params: 79510 (310.59 KB)\n",
            "Non-trainable params: 0 (0.00 Byte)\n",
            "_________________________________________________________________\n"
          ]
        }
      ]
    },
    {
      "cell_type": "markdown",
      "source": [
        "편리하나 아주 많은 층을 추가하려면 Sequential 클래스의 생성자가 매우 길어짐\n",
        "\n",
        "또 조건에 따라 층을 추가할 수도 없음"
      ],
      "metadata": {
        "id": "OGoq3dY7SwwE"
      }
    },
    {
      "cell_type": "markdown",
      "source": [
        "**층을 추가하는 또 다른 방법**"
      ],
      "metadata": {
        "id": "prdXh_O-S3eA"
      }
    },
    {
      "cell_type": "code",
      "source": [
        "model = keras.Sequential()\n",
        "model.add(keras.layers.Dense(100, activation='sigmoid', input_shape=(784,)))\n",
        "model.add(keras.layers.Dense(10, activation='softmax'))"
      ],
      "metadata": {
        "id": "k5uBy5MRKTYs"
      },
      "execution_count": 8,
      "outputs": []
    },
    {
      "cell_type": "code",
      "source": [
        "model.summary()"
      ],
      "metadata": {
        "colab": {
          "base_uri": "https://localhost:8080/"
        },
        "id": "D0nQfS1dKUJL",
        "outputId": "53868553-d0f1-4ba9-f368-2d73eb4f597a"
      },
      "execution_count": 9,
      "outputs": [
        {
          "output_type": "stream",
          "name": "stdout",
          "text": [
            "Model: \"sequential_2\"\n",
            "_________________________________________________________________\n",
            " Layer (type)                Output Shape              Param #   \n",
            "=================================================================\n",
            " dense_4 (Dense)             (None, 100)               78500     \n",
            "                                                                 \n",
            " dense_5 (Dense)             (None, 10)                1010      \n",
            "                                                                 \n",
            "=================================================================\n",
            "Total params: 79510 (310.59 KB)\n",
            "Trainable params: 79510 (310.59 KB)\n",
            "Non-trainable params: 0 (0.00 Byte)\n",
            "_________________________________________________________________\n"
          ]
        }
      ]
    },
    {
      "cell_type": "code",
      "source": [
        "# 모델 훈련\n",
        "model.compile(loss='sparse_categorical_crossentropy', metrics='accuracy')\n",
        "\n",
        "model.fit(train_scaled, train_target, epochs=5)"
      ],
      "metadata": {
        "colab": {
          "base_uri": "https://localhost:8080/"
        },
        "id": "c9m-HvIzKVf7",
        "outputId": "459df222-b428-4d38-b8bd-d05731de54eb"
      },
      "execution_count": 10,
      "outputs": [
        {
          "output_type": "stream",
          "name": "stdout",
          "text": [
            "Epoch 1/5\n",
            "1500/1500 [==============================] - 5s 3ms/step - loss: 0.5681 - accuracy: 0.8055\n",
            "Epoch 2/5\n",
            "1500/1500 [==============================] - 4s 2ms/step - loss: 0.4119 - accuracy: 0.8511\n",
            "Epoch 3/5\n",
            "1500/1500 [==============================] - 4s 2ms/step - loss: 0.3765 - accuracy: 0.8641\n",
            "Epoch 4/5\n",
            "1500/1500 [==============================] - 4s 3ms/step - loss: 0.3531 - accuracy: 0.8722\n",
            "Epoch 5/5\n",
            "1500/1500 [==============================] - 4s 2ms/step - loss: 0.3358 - accuracy: 0.8790\n"
          ]
        },
        {
          "output_type": "execute_result",
          "data": {
            "text/plain": [
              "<keras.src.callbacks.History at 0x7a2b0831e2c0>"
            ]
          },
          "metadata": {},
          "execution_count": 10
        }
      ]
    },
    {
      "cell_type": "markdown",
      "source": [
        "## 렐루 활성화 함수"
      ],
      "metadata": {
        "id": "kXca_1WrKWv5"
      }
    },
    {
      "cell_type": "markdown",
      "source": [
        "활성 함수를 바꿔보자\n",
        "\n",
        "\n",
        "초창기 인공 신경망의 은닉층에 많이 사용된 함수는 시그모이드 함수이나 단점이 있음\n",
        "\n",
        "시그모이드 함수의 출력값이 0 or 1에 가까워지면 그래프의 기울기가 완만해지는 것을 알 수 있다.\n",
        "\n",
        "역전파 과정에서 앞쪽 파라미터에 기울기가 제대로 전파되지 않는다.\n",
        "\n",
        "---\n",
        "\n",
        "**렐루(ReLU) 함수**\n",
        "\n",
        "입력이 양수일 때, 입력을 그대로 통과시키고 음수일 경우 0으로 설정함\n",
        "\n",
        "렐루 함수는 max(0, z)와 같이 쓸 수도 있음\n",
        "\n",
        "이 함수는 z가 0보다 크면 z를 출력하고 z가 0보다 작으면 0을 출력\n",
        "\n",
        "렐루 함수는 특히 이미지 처리에서 좋은 성능을 낸다고 알려짐"
      ],
      "metadata": {
        "id": "RpiUedqAXH9A"
      }
    },
    {
      "cell_type": "markdown",
      "source": [
        "**Flatten 층**\n",
        "\n",
        "케라스에서 제공하는 편리한 층\n",
        "\n",
        "지금까지 2차원 이상의 넘파이 배열의 데이터를 reshape() 메서드를 이용해 1차원으로 변경함\n",
        "\n",
        "Flatten 클래스는 배치 차원을 제외하고 나머지 입력 차원을 모두 일렬로 펼치는 역할만 함\n",
        "\n",
        "데이터의 첫 번째 축(0번 축)을 배치 축(batch axis) 또는 배치 차원(batch dimension)이라고 부름\n",
        "\n",
        "입력에 곱해지는 가중치나 절편이 없어서 성능에 기여하는 것은 없음\n",
        "\n",
        "그러나 Flatten 클래스는 입력층과 은닉층 사이에 추가되기 때문에 층이라 부름\n",
        "\n",
        "하지만 Flatten 클래스는 학습하는 층이 아니므로 이 신경망의 깊이가 3인 신경망이라고 하지는 않음\n",
        "\n"
      ],
      "metadata": {
        "id": "gzjyaai0X0S7"
      }
    },
    {
      "cell_type": "code",
      "source": [
        "model = keras.Sequential()\n",
        "model.add(keras.layers.Flatten(input_shape=(28, 28)))\n",
        "model.add(keras.layers.Dense(100, activation='relu'))\n",
        "model.add(keras.layers.Dense(10, activation='softmax'))"
      ],
      "metadata": {
        "id": "sfNVSOSYKXaG"
      },
      "execution_count": 11,
      "outputs": []
    },
    {
      "cell_type": "code",
      "source": [
        "model.summary()"
      ],
      "metadata": {
        "colab": {
          "base_uri": "https://localhost:8080/"
        },
        "id": "NsYmi9UJKYy-",
        "outputId": "ce130951-27b9-42f9-a815-7db432b5dc30"
      },
      "execution_count": 12,
      "outputs": [
        {
          "output_type": "stream",
          "name": "stdout",
          "text": [
            "Model: \"sequential_3\"\n",
            "_________________________________________________________________\n",
            " Layer (type)                Output Shape              Param #   \n",
            "=================================================================\n",
            " flatten (Flatten)           (None, 784)               0         \n",
            "                                                                 \n",
            " dense_6 (Dense)             (None, 100)               78500     \n",
            "                                                                 \n",
            " dense_7 (Dense)             (None, 10)                1010      \n",
            "                                                                 \n",
            "=================================================================\n",
            "Total params: 79510 (310.59 KB)\n",
            "Trainable params: 79510 (310.59 KB)\n",
            "Non-trainable params: 0 (0.00 Byte)\n",
            "_________________________________________________________________\n"
          ]
        }
      ]
    },
    {
      "cell_type": "markdown",
      "source": [
        "첫 번째 등장하는 Flatten 클래스에 포함된 모델 파라미터는 0개\n",
        "\n",
        "케라스의 Flatten 층을 신경망 모델에 추가하면 입력값의 차원을 짐작할 수 있음\n",
        "\n",
        "케라스 API는 입력 데이터에 대해 전처리 과정을 될 수 있으면 모델에 포함시킴"
      ],
      "metadata": {
        "id": "lturyCzZYh0h"
      }
    },
    {
      "cell_type": "markdown",
      "source": [
        "훈련 데이터 재생성\n",
        "\n",
        "이전과 다른점은 reshape() 메서드를 사용하지 않음"
      ],
      "metadata": {
        "id": "b9SK07o1Yx5V"
      }
    },
    {
      "cell_type": "code",
      "source": [
        "(train_input, train_target), (test_input, test_target) = keras.datasets.fashion_mnist.load_data()\n",
        "\n",
        "train_scaled = train_input / 255.0\n",
        "\n",
        "train_scaled, val_scaled, train_target, val_target = train_test_split(\n",
        "    train_scaled, train_target, test_size=0.2, random_state=42)"
      ],
      "metadata": {
        "id": "a1JOvILLKcIq"
      },
      "execution_count": 13,
      "outputs": []
    },
    {
      "cell_type": "code",
      "source": [
        "model.compile(loss='sparse_categorical_crossentropy', metrics='accuracy')\n",
        "\n",
        "model.fit(train_scaled, train_target, epochs=5)"
      ],
      "metadata": {
        "colab": {
          "base_uri": "https://localhost:8080/"
        },
        "id": "igZl6V-eKicR",
        "outputId": "9731e988-383e-4484-e17f-331fdceaca21"
      },
      "execution_count": 14,
      "outputs": [
        {
          "output_type": "stream",
          "name": "stdout",
          "text": [
            "Epoch 1/5\n",
            "1500/1500 [==============================] - 4s 2ms/step - loss: 0.5358 - accuracy: 0.8118\n",
            "Epoch 2/5\n",
            "1500/1500 [==============================] - 4s 3ms/step - loss: 0.3960 - accuracy: 0.8566\n",
            "Epoch 3/5\n",
            "1500/1500 [==============================] - 4s 2ms/step - loss: 0.3577 - accuracy: 0.8697\n",
            "Epoch 4/5\n",
            "1500/1500 [==============================] - 4s 2ms/step - loss: 0.3346 - accuracy: 0.8790\n",
            "Epoch 5/5\n",
            "1500/1500 [==============================] - 5s 3ms/step - loss: 0.3189 - accuracy: 0.8860\n"
          ]
        },
        {
          "output_type": "execute_result",
          "data": {
            "text/plain": [
              "<keras.src.callbacks.History at 0x7a2b0820e080>"
            ]
          },
          "metadata": {},
          "execution_count": 14
        }
      ]
    },
    {
      "cell_type": "code",
      "source": [
        "model.evaluate(val_scaled, val_target)"
      ],
      "metadata": {
        "colab": {
          "base_uri": "https://localhost:8080/"
        },
        "id": "d5r7PFFpKjuo",
        "outputId": "2b75729f-f4dd-4350-ac6d-4c2a4363b26c"
      },
      "execution_count": 15,
      "outputs": [
        {
          "output_type": "stream",
          "name": "stdout",
          "text": [
            "375/375 [==============================] - 1s 2ms/step - loss: 0.3442 - accuracy: 0.8802\n"
          ]
        },
        {
          "output_type": "execute_result",
          "data": {
            "text/plain": [
              "[0.3442150354385376, 0.8802499771118164]"
            ]
          },
          "metadata": {},
          "execution_count": 15
        }
      ]
    },
    {
      "cell_type": "markdown",
      "source": [
        "## 옵티마이저\n"
      ],
      "metadata": {
        "id": "JPY9FEbfKkus"
      }
    },
    {
      "cell_type": "markdown",
      "source": [
        "**옵티마이저(optimizer)**\n",
        "\n",
        "신경망의 가중치와 절편을 학습하기 위한 알고리즘 또는 방법\n",
        "\n",
        "사용할 경사 하강법 알고리즘과 그 파라미터를 지정하는 매개변수\n",
        "\n",
        "___\n",
        "\n",
        "신경망에는 하이퍼파라미터가 많음\n",
        "\n",
        "추가할 은닉층의 개수, 은닉층의 뉴럴 개수, 사용할 활성화 함수, 사용할 층의 종류,\n",
        "\n",
        "fit 메서드의 미니배치 개수, epochs 매개변수\n",
        "\n",
        "compile() 메서드의 경사 하강법 알고리즘도 하이퍼파라미터\n",
        "\n",
        "케라스의 기본 세팅된 경사 하강법 알고리즘은 RMSprop이고 RMSprop의 학습률 또한 하이퍼파라미터\n",
        "\n",
        "케라스는 다양한 종류의 경사 하강법 알고리즘을 제공하여 이들을 옵티마이저라고 함\n",
        "\n",
        "___\n",
        "\n",
        "SGD 경사 하강법 최적화\n",
        "\n",
        "학습률 조절\n",
        "\n",
        "sgd = keras.optimizers.SGE(learning_rate=0.1) #기본값은 0.01"
      ],
      "metadata": {
        "id": "aIGcryR_Zfn_"
      }
    },
    {
      "cell_type": "markdown",
      "source": [
        "모멘텀 최적화\n",
        "\n",
        "모멘텀(관성, 운동량) 조절\n",
        "\n",
        "sgd = keras.optimizers.SGD(momentum=0.9) # 기본값은 0\n",
        "\n",
        "새로운 가중치와 절편을 계산할 때, 과거의 가중치와 절편의 변화량을 어느 정도 반영할 것인지 결정함\n",
        "\n",
        "간단히 말하면 한 번에 이동하는 가중치와 절편의 크기에 변화를 줌\n",
        "\n",
        "여기서 표시된 loss는 절대제곱오차"
      ],
      "metadata": {
        "id": "Ly9Z31JJaV0O"
      }
    },
    {
      "cell_type": "markdown",
      "source": [
        "네스테로프 모멘텀 최적화 (네스테로프 가속 경사)\n",
        "\n",
        "sgd = keras.optimizers.SGD(momentum=0.9, nestrerov=True) #기본값은 0\n",
        "\n",
        "모멘텀 최적화를 2번 반복하여 구현\n",
        "\n",
        "모멘텀 최적화와 비교하면 손실함수의 입력인 이전의 기울기와 절편에 추가로"
      ],
      "metadata": {
        "id": "LZgTZbRFawTJ"
      }
    },
    {
      "cell_type": "markdown",
      "source": [
        "Adagrad\n",
        "\n",
        "그레이디언트 제곱을 누적하여 학습률을 나눔\n",
        "\n",
        "누적 초기값은 initial_accumulator_value 매개변수로 지정\n",
        "\n",
        "adagrad = keras.optimizers.Adagrad(learning_rate = 0.1)"
      ],
      "metadata": {
        "id": "G4Hgb6EQbJNG"
      }
    },
    {
      "cell_type": "markdown",
      "source": [
        "RMSprop\n",
        "\n",
        "그레이디언트 제곱을 누적하여 학습률을 나누지만 최근의 그레이디언트를 사용하기 위해 지수 감소를 사용\n",
        "\n",
        "감소 비율을 rho매개변수에서 지정\n",
        "\n",
        "rho를 조절하여 이전 기울기들과 현재 기울기의 가중치를 설정함\n",
        "\n",
        "rho가 1에 가까울수록 이전 기울기들을 중요하시고 0에 가까울수록 현재 기울기를 중요시함"
      ],
      "metadata": {
        "id": "YfqsH7CbbRp8"
      }
    },
    {
      "cell_type": "markdown",
      "source": [
        "Adam\n",
        "\n",
        "모멘텀 최적화와 RMSprop 장점을 접목한 것"
      ],
      "metadata": {
        "id": "2EqC1BCQbgKq"
      }
    },
    {
      "cell_type": "code",
      "source": [
        "model.compile(optimizer='sgd', loss='sparse_categorical_crossentropy', metrics='accuracy')"
      ],
      "metadata": {
        "id": "5iYWB4nYKmuG"
      },
      "execution_count": 16,
      "outputs": []
    },
    {
      "cell_type": "code",
      "source": [
        "sgd = keras.optimizers.SGD()\n",
        "model.compile(optimizer=sgd, loss='sparse_categorical_crossentropy', metrics='accuracy')"
      ],
      "metadata": {
        "id": "hxRoqz3iKnkQ"
      },
      "execution_count": 17,
      "outputs": []
    },
    {
      "cell_type": "code",
      "source": [
        "sgd = keras.optimizers.SGD(learning_rate=0.1)"
      ],
      "metadata": {
        "id": "VU5vwAnuKoZD"
      },
      "execution_count": 18,
      "outputs": []
    },
    {
      "cell_type": "code",
      "source": [
        "sgd = keras.optimizers.SGD(momentum=0.9, nesterov=True)"
      ],
      "metadata": {
        "id": "yXUNcJdWKpIc"
      },
      "execution_count": 19,
      "outputs": []
    },
    {
      "cell_type": "code",
      "source": [
        "adagrad = keras.optimizers.Adagrad()\n",
        "model.compile(optimizer=adagrad, loss='sparse_categorical_crossentropy', metrics='accuracy')"
      ],
      "metadata": {
        "id": "rKUYnLheKp3u"
      },
      "execution_count": 20,
      "outputs": []
    },
    {
      "cell_type": "code",
      "source": [
        "rmsprop = keras.optimizers.RMSprop()\n",
        "model.compile(optimizer=rmsprop, loss='sparse_categorical_crossentropy', metrics='accuracy')"
      ],
      "metadata": {
        "id": "1zPTd2g3Kqmt"
      },
      "execution_count": 21,
      "outputs": []
    },
    {
      "cell_type": "code",
      "source": [
        "model = keras.Sequential()\n",
        "model.add(keras.layers.Flatten(input_shape=(28, 28)))\n",
        "model.add(keras.layers.Dense(100, activation='relu'))\n",
        "model.add(keras.layers.Dense(10, activation='softmax'))"
      ],
      "metadata": {
        "id": "d6l40gTFKrzS"
      },
      "execution_count": 22,
      "outputs": []
    },
    {
      "cell_type": "code",
      "source": [
        "model.compile(optimizer='adam', loss='sparse_categorical_crossentropy', metrics='accuracy')\n",
        "\n",
        "model.fit(train_scaled, train_target, epochs=5)"
      ],
      "metadata": {
        "colab": {
          "base_uri": "https://localhost:8080/"
        },
        "id": "5KSJRtrIKsko",
        "outputId": "11f1f744-d128-456e-e97c-30784fe97221"
      },
      "execution_count": 23,
      "outputs": [
        {
          "output_type": "stream",
          "name": "stdout",
          "text": [
            "Epoch 1/5\n",
            "1500/1500 [==============================] - 5s 3ms/step - loss: 0.5310 - accuracy: 0.8154\n",
            "Epoch 2/5\n",
            "1500/1500 [==============================] - 4s 3ms/step - loss: 0.3996 - accuracy: 0.8577\n",
            "Epoch 3/5\n",
            "1500/1500 [==============================] - 4s 3ms/step - loss: 0.3600 - accuracy: 0.8696\n",
            "Epoch 4/5\n",
            "1500/1500 [==============================] - 4s 3ms/step - loss: 0.3318 - accuracy: 0.8788\n",
            "Epoch 5/5\n",
            "1500/1500 [==============================] - 4s 3ms/step - loss: 0.3128 - accuracy: 0.8860\n"
          ]
        },
        {
          "output_type": "execute_result",
          "data": {
            "text/plain": [
              "<keras.src.callbacks.History at 0x7a2b17592740>"
            ]
          },
          "metadata": {},
          "execution_count": 23
        }
      ]
    },
    {
      "cell_type": "code",
      "source": [
        "model.evaluate(val_scaled, val_target)"
      ],
      "metadata": {
        "colab": {
          "base_uri": "https://localhost:8080/"
        },
        "id": "4HGMgfVWKtiG",
        "outputId": "f47e6338-e89b-4a30-cf15-5c582acc9bbe"
      },
      "execution_count": 24,
      "outputs": [
        {
          "output_type": "stream",
          "name": "stdout",
          "text": [
            "375/375 [==============================] - 1s 2ms/step - loss: 0.3304 - accuracy: 0.8817\n"
          ]
        },
        {
          "output_type": "execute_result",
          "data": {
            "text/plain": [
              "[0.33042052388191223, 0.8817499876022339]"
            ]
          },
          "metadata": {},
          "execution_count": 24
        }
      ]
    },
    {
      "cell_type": "code",
      "source": [
        "adam = keras.optimizers.Adam(learning_rate=0.0005, beta_1=0.8, beta_2=0.9)\n",
        "\n",
        "model = keras.Sequential()\n",
        "model.add(keras.layers.Flatten(input_shape=(28, 28)))\n",
        "model.add(keras.layers.Dense(100, activation ='relu'))\n",
        "model.add(keras.layers.Dense(10, activation='softmax'))\n",
        "model.compile(optimizer=adam, loss='sparse_categorical_crossentropy', metrics='accuracy')\n",
        "model.fit(train_scaled, train_target, epochs=5)\n",
        "model.evaluate(val_scaled, val_target)"
      ],
      "metadata": {
        "colab": {
          "base_uri": "https://localhost:8080/"
        },
        "id": "FmR6kzyWcuXq",
        "outputId": "600e2cd6-be83-4ec8-9803-6f924db16d8f"
      },
      "execution_count": 26,
      "outputs": [
        {
          "output_type": "stream",
          "name": "stdout",
          "text": [
            "Epoch 1/5\n",
            "1500/1500 [==============================] - 7s 4ms/step - loss: 0.5584 - accuracy: 0.8071\n",
            "Epoch 2/5\n",
            "1500/1500 [==============================] - 6s 4ms/step - loss: 0.4136 - accuracy: 0.8540\n",
            "Epoch 3/5\n",
            "1500/1500 [==============================] - 5s 3ms/step - loss: 0.3735 - accuracy: 0.8669\n",
            "Epoch 4/5\n",
            "1500/1500 [==============================] - 4s 3ms/step - loss: 0.3492 - accuracy: 0.8754\n",
            "Epoch 5/5\n",
            "1500/1500 [==============================] - 4s 2ms/step - loss: 0.3283 - accuracy: 0.8825\n",
            "375/375 [==============================] - 1s 2ms/step - loss: 0.3607 - accuracy: 0.8712\n"
          ]
        },
        {
          "output_type": "execute_result",
          "data": {
            "text/plain": [
              "[0.360656201839447, 0.8711666464805603]"
            ]
          },
          "metadata": {},
          "execution_count": 26
        }
      ]
    }
  ]
}